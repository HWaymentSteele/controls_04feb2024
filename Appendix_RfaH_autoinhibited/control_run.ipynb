{
  "nbformat": 4,
  "nbformat_minor": 0,
  "metadata": {
    "colab": {
      "provenance": [],
      "machine_shape": "hm",
      "gpuType": "T4"
    },
    "kernelspec": {
      "name": "python3",
      "display_name": "Python 3"
    },
    "language_info": {
      "name": "python"
    },
    "accelerator": "GPU"
  },
  "cells": [
    {
      "cell_type": "markdown",
      "source": [
        "# extra controls"
      ],
      "metadata": {
        "id": "NJl5Mn_ULxBd"
      }
    },
    {
      "cell_type": "code",
      "execution_count": 1,
      "metadata": {
        "cellView": "form",
        "colab": {
          "base_uri": "https://localhost:8080/"
        },
        "id": "0ocSOE_ZHsg0",
        "outputId": "9e5420ba-2fe2-4f17-e95f-1f86fbe679a1"
      },
      "outputs": [
        {
          "output_type": "stream",
          "name": "stdout",
          "text": [
            "installing ColabDesign\n",
            "installing HHsuite\n",
            "CPU times: user 1.41 s, sys: 859 ms, total: 2.27 s\n",
            "Wall time: 50.5 s\n"
          ]
        }
      ],
      "source": [
        "%%time\n",
        "#@title setup\n",
        "unified_memory = True #@param {type:\"boolean\"}\n",
        "import os, time, gc\n",
        "if unified_memory:\n",
        "  ENV = {\"TF_FORCE_UNIFIED_MEMORY\":\"1\", \"XLA_PYTHON_CLIENT_MEM_FRACTION\":\"4.0\"}\n",
        "  for k,v in ENV.items(): os.environ[k] = v\n",
        "\n",
        "if not os.path.isdir(\"params\"):\n",
        "  # get code\n",
        "  print(\"installing ColabDesign\")\n",
        "  os.system(\"(mkdir params; apt-get install aria2 -qq; \\\n",
        "  aria2c -q -x 16 https://storage.googleapis.com/alphafold/alphafold_params_2022-12-06.tar; \\\n",
        "  tar -xf alphafold_params_2022-12-06.tar -C params; touch params/done.txt )&\")\n",
        "\n",
        "  os.system(\"pip -q install git+https://github.com/sokrypton/ColabDesign.git@gamma_1\")\n",
        "  os.system(\"ln -s /usr/local/lib/python3.*/dist-packages/colabdesign colabdesign\")\n",
        "  os.system(\"wget https://raw.githubusercontent.com/sokrypton/ColabFold/main/colabfold/colabfold.py -O colabfold_utils.py\")\n",
        "\n",
        "  # install hhsuite\n",
        "  print(\"installing HHsuite\")\n",
        "  os.makedirs(\"hhsuite\", exist_ok=True)\n",
        "  os.system(f\"curl -fsSL https://github.com/soedinglab/hh-suite/releases/download/v3.3.0/hhsuite-3.3.0-SSE2-Linux.tar.gz | tar xz -C hhsuite/\")\n",
        "\n",
        "  # download params\n",
        "  if not os.path.isfile(\"params/done.txt\"):\n",
        "    print(\"downloading AlphaFold params\")\n",
        "    while not os.path.isfile(\"params/done.txt\"):\n",
        "      time.sleep(5)\n",
        "if \"hhsuite\" not in os.environ['PATH']:\n",
        "  os.environ['PATH'] += \":hhsuite/bin:hhsuite/scripts\"\n",
        "\n",
        "import re, tempfile\n",
        "from IPython.display import HTML\n",
        "from google.colab import files\n",
        "import numpy as np\n",
        "from colabdesign import mk_af_model, clear_mem\n",
        "from colabdesign.af.contrib import predict\n",
        "from colabdesign.af.contrib.cyclic import add_cyclic_offset\n",
        "from colabdesign.shared.protein import _np_rmsd, _np_kabsch\n",
        "from colabdesign.shared.plot import plot_pseudo_3D, pymol_cmap\n",
        "\n",
        "import jax\n",
        "import jax.numpy as jnp\n",
        "from colabfold_utils import run_mmseqs2\n",
        "import matplotlib.pyplot as plt\n",
        "import string\n",
        "import numpy as np\n",
        "\n",
        "def clear_mem():\n",
        "  backend = jax.lib.xla_bridge.get_backend()\n",
        "  for buf in backend.live_buffers(): buf.delete()\n",
        "\n",
        "def get_pdb(pdb_code=\"\"):\n",
        "  if pdb_code is None or pdb_code == \"\":\n",
        "    upload_dict = files.upload()\n",
        "    pdb_string = upload_dict[list(upload_dict.keys())[0]]\n",
        "    with open(\"tmp.pdb\",\"wb\") as out: out.write(pdb_string)\n",
        "    return \"tmp.pdb\"\n",
        "  elif os.path.isfile(pdb_code):\n",
        "    return pdb_code\n",
        "  elif len(pdb_code) == 4:\n",
        "    os.makedirs(\"tmp\",exist_ok=True)\n",
        "    os.system(f\"wget -qnc https://files.rcsb.org/download/{pdb_code}.cif -P tmp/\")\n",
        "    return f\"tmp/{pdb_code}.cif\"\n",
        "  else:\n",
        "    os.makedirs(\"tmp\",exist_ok=True)\n",
        "    os.system(f\"wget -qnc https://alphafold.ebi.ac.uk/files/AF-{pdb_code}-F1-model_v4.pdb -P tmp/\")\n",
        "    return f\"tmp/AF-{pdb_code}-F1-model_v4.pdb\"\n",
        "\n",
        "def run_hhalign(query_sequence, target_sequence, query_a3m=None, target_a3m=None):\n",
        "  with tempfile.NamedTemporaryFile() as tmp_query, \\\n",
        "  tempfile.NamedTemporaryFile() as tmp_target, \\\n",
        "  tempfile.NamedTemporaryFile() as tmp_alignment:\n",
        "    if query_a3m is None:\n",
        "      tmp_query.write(f\">Q\\n{query_sequence}\\n\".encode())\n",
        "      tmp_query.flush()\n",
        "      query_a3m = tmp_query.name\n",
        "    if target_a3m is None:\n",
        "      tmp_target.write(f\">T\\n{target_sequence}\\n\".encode())\n",
        "      tmp_target.flush()\n",
        "      target_a3m = tmp_target.name\n",
        "    os.system(f\"hhalign -hide_cons -i {query_a3m} -t {target_a3m} -o {tmp_alignment.name}\")\n",
        "    X, start_indices = predict.parse_hhalign_output(tmp_alignment.name)\n",
        "  return X, start_indices\n",
        "\n",
        "def run_do_not_align(query_sequence, target_sequence, **arg):\n",
        "  return [query_sequence,target_sequence],[0,0]\n",
        "\n",
        "def run_hhfilter(input, output, id=90, qid=10):\n",
        "  os.system(f\"hhfilter -id {id} -qid {qid} -i {input} -o {output}\")\n",
        "\n",
        "@jax.jit\n",
        "def get_coevolution(X):\n",
        "  '''given one-hot encoded MSA, return contacts'''\n",
        "  Y = jax.nn.one_hot(X,22)\n",
        "  N,L,A = Y.shape\n",
        "  Y_flat = Y.reshape(N,-1)\n",
        "  # covariance\n",
        "  c = jnp.cov(Y_flat.T)\n",
        "\n",
        "  # inverse covariance\n",
        "  shrink = 4.5/jnp.sqrt(N) * jnp.eye(c.shape[0])\n",
        "  ic = jnp.linalg.inv(c + shrink)\n",
        "\n",
        "  # partial correlation coefficient\n",
        "  ic_diag = jnp.diag(ic)\n",
        "  pcc = ic / jnp.sqrt(ic_diag[:,None] * ic_diag[None,:])\n",
        "\n",
        "  raw = jnp.sqrt(jnp.square(pcc.reshape(L,A,L,A)[:,:20,:,:20]).sum((1,3)))\n",
        "  i = jnp.arange(L)\n",
        "  raw = raw.at[i,i].set(0)\n",
        "  # do apc\n",
        "  ap = raw.sum(0,keepdims=True) * raw.sum(1,keepdims=True) / raw.sum()\n",
        "  return (raw - ap).at[i,i].set(0)\n",
        "\n",
        "def plot_3D(aux, Ls, file_name, show=False):\n",
        "  plt.figure(figsize=(10,5))\n",
        "  xyz = aux[\"atom_positions\"][:,1]\n",
        "  xyz = xyz @ _np_kabsch(xyz, xyz, return_v=True, use_jax=False)\n",
        "  ax = plt.subplot(1,2,1)\n",
        "  if len(Ls) > 1:\n",
        "    plt.title(\"chain\")\n",
        "    c = np.concatenate([[n]*L for n,L in enumerate(Ls)])\n",
        "    plot_pseudo_3D(xyz=xyz, c=c, cmap=pymol_cmap, cmin=0, cmax=39, Ls=Ls, ax=ax)\n",
        "  else:\n",
        "    plt.title(\"length\")\n",
        "    plot_pseudo_3D(xyz=xyz, Ls=Ls, ax=ax)\n",
        "  plt.axis(False)\n",
        "  ax = plt.subplot(1,2,2)\n",
        "  plt.title(\"plddt\")\n",
        "  plot_pseudo_3D(xyz=xyz, c=aux[\"plddt\"], cmin=0.5, cmax=0.9, Ls=Ls, ax=ax)\n",
        "  plt.axis(False)\n",
        "  plt.savefig(file_name, dpi=200, bbox_inches='tight')\n",
        "  plt.show() if show else plt.close()"
      ]
    },
    {
      "cell_type": "code",
      "source": [
        "!wget -qnc https://codeload.github.com/HWaymentSteele/AF_Cluster/zip/refs/heads/main -O AF_Cluster.zip\n",
        "!unzip -qqo AF_Cluster.zip"
      ],
      "metadata": {
        "id": "z6gO40pfH0So"
      },
      "execution_count": 2,
      "outputs": []
    },
    {
      "cell_type": "code",
      "source": [
        "data = {}\n",
        "seq = \"MQSWYLLYCKRGQLQRAQEHLERQAVNCLAPMITLEKIVRGKRTAVSEPLFPNYLFVEFDPEVIHTTTINATRGVSHFVRFGASPAIVPSAVIHQLSVYKPKDIVDPATPYPGDKVIITEGAFEGFQAIFTEPDGEARSMLLLNLINKEIKHSVKNTEFRKA\"\n",
        "N_SEEDS=50"
      ],
      "metadata": {
        "id": "D7sKGUoXIZNd"
      },
      "execution_count": 3,
      "outputs": []
    },
    {
      "cell_type": "code",
      "source": [
        "for a in [\"ptm\",\"noptm\"]:\n",
        "  for b in [\"mask\",\"nomask\"]:\n",
        "    clear_mem()\n",
        "    af = mk_af_model(\"hallucination\",\n",
        "                    model_type = \"alphafold2_ptm\" if a == \"ptm\" else \"alphafold2\",\n",
        "                    use_bfloat16=True,\n",
        "                    optimize_seq=False,\n",
        "                    num_msa=512,\n",
        "                    num_extra_msa=5120,\n",
        "                    use_cluster_profile=True,\n",
        "                    use_mlm = b==\"mask\")\n",
        "    af.prep_inputs(len(seq))\n",
        "    af.set_msa(a3m_filename=\"/content/AF_Cluster-main/data_sep2022/04_OtherFoldswitchers/00_RfaH/RfaH_from_colabfold.a3m\")\n",
        "    mode = f\"{a}_{b}\"\n",
        "    data[mode] = []\n",
        "    for m in range(5):\n",
        "      data[mode].append([])\n",
        "      for seed in range(N_SEEDS):\n",
        "        af.predict(num_recycles=3, models=[m], verbose=False, seed=seed)\n",
        "        data[mode][-1].append(af.aux[\"plddt\"].mean())\n",
        "      print(mode,m,np.mean(data[mode][-1]))"
      ],
      "metadata": {
        "id": "gkYMfimWKlVR"
      },
      "execution_count": null,
      "outputs": []
    },
    {
      "cell_type": "code",
      "source": [
        "import pickle\n",
        "with open('data.pickle', 'wb') as handle:\n",
        "  pickle.dump(data, handle)"
      ],
      "metadata": {
        "id": "xbxEA2yFYLPo"
      },
      "execution_count": null,
      "outputs": []
    },
    {
      "cell_type": "code",
      "source": [
        "data_clusters = {}\n",
        "CLUSTER_SET = [49] # add more cluster numbers here\n",
        "N_SEEDS = 50"
      ],
      "metadata": {
        "id": "fGvYKcVlfAY2"
      },
      "execution_count": null,
      "outputs": []
    },
    {
      "cell_type": "code",
      "source": [
        "!mkdir output"
      ],
      "metadata": {
        "id": "grm1cKqtFc_L"
      },
      "execution_count": null,
      "outputs": []
    },
    {
      "cell_type": "code",
      "source": [
        "for a in [\"ptm\"]:\n",
        "  for b in [\"mask\"]:\n",
        "    clear_mem()\n",
        "    af = mk_af_model(\"hallucination\",\n",
        "                      model_type = \"alphafold2_ptm\" if a == \"ptm\" else \"alphafold2\",\n",
        "                      use_bfloat16=True,\n",
        "                      optimize_seq=False,\n",
        "                      num_msa=512,\n",
        "                      num_extra_msa=5120,\n",
        "                      use_cluster_profile=True,\n",
        "                      use_mlm = b==\"mask\")\n",
        "    for k in CLUSTER_SET:\n",
        "      mode = f\"{k}_{a}_{b}\"\n",
        "      data_clusters[mode] = []\n",
        "      af.prep_inputs(len(seq))\n",
        "      af.set_msa(a3m_filename=f\"/content/AF_Cluster-main/data_sep2022/04_OtherFoldswitchers/00_RfaH/msas/RFAH_{k:03}.a3m\")\n",
        "      for m in range(5):\n",
        "        data_clusters[mode].append([])\n",
        "        for seed in range(N_SEEDS):\n",
        "          af.predict(num_recycles=3, models=[m], verbose=False, seed=seed)\n",
        "          af.save_pdb(f\"output/{mode}.model_{m+1}_ptm.seed{seed:02}.pdb\")\n",
        "          data_clusters[mode][-1].append(af.aux[\"plddt\"].mean())\n",
        "        print(mode,m,np.mean(data_clusters[mode][-1]))"
      ],
      "metadata": {
        "id": "Qy3sSo5hMuZQ"
      },
      "execution_count": null,
      "outputs": []
    },
    {
      "cell_type": "code",
      "source": [
        "import pickle\n",
        "with open('data_clusters.pickle', 'wb') as handle:\n",
        "  pickle.dump(data_clusters, handle)"
      ],
      "metadata": {
        "id": "0cyHQ2GjYlj4"
      },
      "execution_count": null,
      "outputs": []
    },
    {
      "cell_type": "code",
      "source": [],
      "metadata": {
        "id": "9pwce_uve7LO"
      },
      "execution_count": null,
      "outputs": []
    }
  ]
}